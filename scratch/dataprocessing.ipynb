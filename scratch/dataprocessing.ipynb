{
 "cells": [
  {
   "cell_type": "code",
   "execution_count": 20,
   "id": "caf75a3d-64fb-481b-8bde-cee5bf126d8d",
   "metadata": {},
   "outputs": [],
   "source": [
    "import numpy as np\n",
    "import pandas as pd\n",
    "import matplotlib.pyplot as plt\n",
    "import datetime\n",
    "import os"
   ]
  },
  {
   "cell_type": "code",
   "execution_count": 97,
   "id": "7102c1da-876e-49b3-8bdf-c9d800c42b73",
   "metadata": {},
   "outputs": [
    {
     "name": "stdout",
     "output_type": "stream",
     "text": [
      "=== [ Remember to download the relevant CSV files to /home/spdskatr/Code/Hack-Cambridge-2022/scratch ! ] ===\n"
     ]
    }
   ],
   "source": [
    "# Sources:\n",
    "# https://digiconomist.net/ethereum-energy-consumption/\n",
    "# https://etherscan.io/chart/tx\n",
    "\n",
    "print(f\"=== [ Remember to download the relevant CSV files to {os.getcwd()} ! ] ===\")"
   ]
  },
  {
   "cell_type": "markdown",
   "id": "ac8f826a-d6db-4faa-89cb-0ab6f61b22a9",
   "metadata": {},
   "source": [
    "# Part 0 - Getting the Data"
   ]
  },
  {
   "cell_type": "code",
   "execution_count": 92,
   "id": "7bcd2995-e4a9-435c-83e2-f46bcd389285",
   "metadata": {},
   "outputs": [],
   "source": [
    "# Data from Digiconomist\n",
    "\n",
    "ETH_ENERGY = pd.read_csv(\"./ethereum-energy-consumpt.csv\")\n",
    "\n",
    "# Data from Etherscan (Attribution required)\n",
    "\n",
    "ETH_DAILY_TRANSACTIONS = pd.read_csv(\"./export-TxGrowth.csv\")"
   ]
  },
  {
   "cell_type": "markdown",
   "id": "e023da3b-0306-4170-9cc5-de31607ec08e",
   "metadata": {},
   "source": [
    "# Part 1 - Energy Consumption by Ethereum Blockchain Per Day"
   ]
  },
  {
   "cell_type": "code",
   "execution_count": 112,
   "id": "1074d946-88bb-4eef-a38c-a8eac7cdc510",
   "metadata": {},
   "outputs": [
    {
     "data": {
      "text/plain": [
       "DateTime\n",
       "2017-05-20      2.338304\n",
       "2017-05-21      2.331936\n",
       "2017-05-22      2.406776\n",
       "2017-05-23      2.479116\n",
       "2017-05-24      2.558065\n",
       "                 ...    \n",
       "2022-01-17    107.791271\n",
       "2022-01-18    108.195707\n",
       "2022-01-19    108.388245\n",
       "2022-01-20    108.577755\n",
       "2022-01-21    108.746580\n",
       "Name: Estimated TWh per Year, Length: 1703, dtype: float64"
      ]
     },
     "execution_count": 112,
     "metadata": {},
     "output_type": "execute_result"
    }
   ],
   "source": [
    "eth_energy_formatted = ETH_ENERGY \\\n",
    "    .astype({ \"DateTime\": np.datetime64 }) \\\n",
    "    .set_index(\"DateTime\") \\\n",
    "    [\"Estimated TWh per Year\"]\n",
    "\n",
    "eth_energy_formatted"
   ]
  },
  {
   "cell_type": "code",
   "execution_count": 113,
   "id": "2abc6299-2ae1-4df8-838c-6e57630f34d2",
   "metadata": {},
   "outputs": [
    {
     "data": {
      "text/plain": [
       "7.8016677108333345"
      ]
     },
     "execution_count": 113,
     "metadata": {},
     "output_type": "execute_result"
    }
   ],
   "source": [
    "eth_energy_formatted.loc[datetime.datetime(2020, 5, 5)]"
   ]
  },
  {
   "cell_type": "code",
   "execution_count": 131,
   "id": "14f82019-e50a-4b4e-b092-a19e55a5c5a8",
   "metadata": {},
   "outputs": [],
   "source": [
    "# This function queries the number of TWh per year for any specific UNIX timestamp\n",
    "\n",
    "def query_twh_per_yr(lookup, epoch):\n",
    "    tab = lookup.loc[:np.datetime64(epoch, \"s\")]\n",
    "    if not tab.empty:\n",
    "        # Get last index you found\n",
    "        return tab.iloc[-1]\n",
    "    else:\n",
    "        return lookup.iloc[0]"
   ]
  },
  {
   "cell_type": "code",
   "execution_count": 132,
   "id": "f48a051d-4e97-4b88-8180-6ad54cb8f2b1",
   "metadata": {},
   "outputs": [
    {
     "data": {
      "text/plain": [
       "106.11698485083332"
      ]
     },
     "execution_count": 132,
     "metadata": {},
     "output_type": "execute_result"
    }
   ],
   "source": [
    "query_twh_per_yr(eth_energy_formatted, 1641837499)"
   ]
  },
  {
   "cell_type": "markdown",
   "id": "e86db8dc-4d1b-4369-954c-4b42a1c84961",
   "metadata": {},
   "source": [
    "# Part 2 - Number of Ether Transactions Per Day"
   ]
  },
  {
   "cell_type": "code",
   "execution_count": 116,
   "id": "db283989-d505-4d49-954b-04391ecd37b4",
   "metadata": {},
   "outputs": [
    {
     "data": {
      "text/html": [
       "<div>\n",
       "<style scoped>\n",
       "    .dataframe tbody tr th:only-of-type {\n",
       "        vertical-align: middle;\n",
       "    }\n",
       "\n",
       "    .dataframe tbody tr th {\n",
       "        vertical-align: top;\n",
       "    }\n",
       "\n",
       "    .dataframe thead th {\n",
       "        text-align: right;\n",
       "    }\n",
       "</style>\n",
       "<table border=\"1\" class=\"dataframe\">\n",
       "  <thead>\n",
       "    <tr style=\"text-align: right;\">\n",
       "      <th></th>\n",
       "      <th>Date(UTC)</th>\n",
       "      <th>UnixTimeStamp</th>\n",
       "      <th>Value</th>\n",
       "    </tr>\n",
       "  </thead>\n",
       "  <tbody>\n",
       "    <tr>\n",
       "      <th>0</th>\n",
       "      <td>7/30/2015</td>\n",
       "      <td>1438214400</td>\n",
       "      <td>8893</td>\n",
       "    </tr>\n",
       "    <tr>\n",
       "      <th>1</th>\n",
       "      <td>7/31/2015</td>\n",
       "      <td>1438300800</td>\n",
       "      <td>0</td>\n",
       "    </tr>\n",
       "    <tr>\n",
       "      <th>2</th>\n",
       "      <td>8/1/2015</td>\n",
       "      <td>1438387200</td>\n",
       "      <td>0</td>\n",
       "    </tr>\n",
       "    <tr>\n",
       "      <th>3</th>\n",
       "      <td>8/2/2015</td>\n",
       "      <td>1438473600</td>\n",
       "      <td>0</td>\n",
       "    </tr>\n",
       "    <tr>\n",
       "      <th>4</th>\n",
       "      <td>8/3/2015</td>\n",
       "      <td>1438560000</td>\n",
       "      <td>0</td>\n",
       "    </tr>\n",
       "    <tr>\n",
       "      <th>...</th>\n",
       "      <td>...</td>\n",
       "      <td>...</td>\n",
       "      <td>...</td>\n",
       "    </tr>\n",
       "    <tr>\n",
       "      <th>2363</th>\n",
       "      <td>1/17/2022</td>\n",
       "      <td>1642377600</td>\n",
       "      <td>1198719</td>\n",
       "    </tr>\n",
       "    <tr>\n",
       "      <th>2364</th>\n",
       "      <td>1/18/2022</td>\n",
       "      <td>1642464000</td>\n",
       "      <td>1169526</td>\n",
       "    </tr>\n",
       "    <tr>\n",
       "      <th>2365</th>\n",
       "      <td>1/19/2022</td>\n",
       "      <td>1642550400</td>\n",
       "      <td>1223143</td>\n",
       "    </tr>\n",
       "    <tr>\n",
       "      <th>2366</th>\n",
       "      <td>1/20/2022</td>\n",
       "      <td>1642636800</td>\n",
       "      <td>1190018</td>\n",
       "    </tr>\n",
       "    <tr>\n",
       "      <th>2367</th>\n",
       "      <td>1/21/2022</td>\n",
       "      <td>1642723200</td>\n",
       "      <td>1189898</td>\n",
       "    </tr>\n",
       "  </tbody>\n",
       "</table>\n",
       "<p>2368 rows × 3 columns</p>\n",
       "</div>"
      ],
      "text/plain": [
       "      Date(UTC)  UnixTimeStamp    Value\n",
       "0     7/30/2015     1438214400     8893\n",
       "1     7/31/2015     1438300800        0\n",
       "2      8/1/2015     1438387200        0\n",
       "3      8/2/2015     1438473600        0\n",
       "4      8/3/2015     1438560000        0\n",
       "...         ...            ...      ...\n",
       "2363  1/17/2022     1642377600  1198719\n",
       "2364  1/18/2022     1642464000  1169526\n",
       "2365  1/19/2022     1642550400  1223143\n",
       "2366  1/20/2022     1642636800  1190018\n",
       "2367  1/21/2022     1642723200  1189898\n",
       "\n",
       "[2368 rows x 3 columns]"
      ]
     },
     "execution_count": 116,
     "metadata": {},
     "output_type": "execute_result"
    }
   ],
   "source": [
    "ETH_DAILY_TRANSACTIONS"
   ]
  },
  {
   "cell_type": "code",
   "execution_count": 117,
   "id": "ed8830ef-326d-4d0e-ac8d-7234b0e0ce38",
   "metadata": {},
   "outputs": [
    {
     "data": {
      "text/plain": [
       "Date(UTC)\n",
       "2015-07-30       8893\n",
       "2015-07-31          0\n",
       "2015-08-01          0\n",
       "2015-08-02          0\n",
       "2015-08-03          0\n",
       "               ...   \n",
       "2022-01-17    1198719\n",
       "2022-01-18    1169526\n",
       "2022-01-19    1223143\n",
       "2022-01-20    1190018\n",
       "2022-01-21    1189898\n",
       "Name: Value, Length: 2368, dtype: int64"
      ]
     },
     "execution_count": 117,
     "metadata": {},
     "output_type": "execute_result"
    }
   ],
   "source": [
    "eth_tx_formatted = ETH_DAILY_TRANSACTIONS \\\n",
    "    .astype({ \"Date(UTC)\": np.datetime64 }) \\\n",
    "    .set_index(\"Date(UTC)\")\\\n",
    "    [\"Value\"]\n",
    "\n",
    "eth_tx_formatted"
   ]
  },
  {
   "cell_type": "code",
   "execution_count": 133,
   "id": "204deac8-ecf5-4734-9c11-5cbda500d36e",
   "metadata": {},
   "outputs": [],
   "source": [
    "# This function queries the number of transactions per day for any specific UNIX timestamp\n",
    "\n",
    "def get_daily_transactions(lookup, epoch):\n",
    "    tab = lookup.loc[:np.datetime64(epoch, \"s\")]\n",
    "    if not tab.empty:\n",
    "        # Get last index you found\n",
    "        return tab.iloc[-1]\n",
    "    else:\n",
    "        return lookup.iloc[0]"
   ]
  },
  {
   "cell_type": "code",
   "execution_count": 134,
   "id": "c13adde8-e825-490f-b0af-d476c7391905",
   "metadata": {},
   "outputs": [
    {
     "data": {
      "text/plain": [
       "1233195"
      ]
     },
     "execution_count": 134,
     "metadata": {},
     "output_type": "execute_result"
    }
   ],
   "source": [
    "get_daily_transactions(eth_tx_formatted, 1641837499)"
   ]
  },
  {
   "cell_type": "markdown",
   "id": "1e5d05ad-79ab-4169-8e9e-f3a90c900f2f",
   "metadata": {},
   "source": [
    "# Part 3 - Ether Energy Consumption Per Day"
   ]
  },
  {
   "cell_type": "code",
   "execution_count": 136,
   "id": "bf7bbfcf-6980-41a8-9342-2339c62fdc4c",
   "metadata": {},
   "outputs": [],
   "source": [
    "def get_energy_kwh_per_trans(currency, epoch):\n",
    "    total = query_twh_per_yr(currency[\"energy\"], epoch)\n",
    "    ntx = get_daily_transactions(currency[\"tx_cnt\"], epoch)\n",
    "    \n",
    "    return ((total / 365.25) / ntx) * 1e9"
   ]
  },
  {
   "cell_type": "code",
   "execution_count": 137,
   "id": "5bd0c807-6270-418b-8752-cc39c8e7f0fa",
   "metadata": {},
   "outputs": [
    {
     "data": {
      "text/plain": [
       "235.59329262763737"
      ]
     },
     "execution_count": 137,
     "metadata": {},
     "output_type": "execute_result"
    }
   ],
   "source": [
    "ETHEREUM = {\n",
    "    \"energy\": eth_energy_formatted,\n",
    "    \"tx_cnt\": eth_tx_formatted\n",
    "}\n",
    "get_energy_kwh_per_trans(ETHEREUM, 1641837499)"
   ]
  },
  {
   "cell_type": "markdown",
   "id": "577066b3-58e1-4b2a-8956-33e99e154a0d",
   "metadata": {},
   "source": [
    "# Part 4 - Bitcoin"
   ]
  },
  {
   "cell_type": "code",
   "execution_count": 138,
   "id": "e0f88bd5-ffdf-4aee-9a8f-4ef95c1431f9",
   "metadata": {},
   "outputs": [],
   "source": [
    "# Getting Bitcoin Data\n",
    "# Sources:\n",
    "# https://digiconomist.net/bitcoin-energy-consumption\n",
    "# https://www.blockchain.com/charts/n-transactions\n",
    "\n",
    "BTC_ENERGY = pd.read_csv(\"bitcoin-energy-consumpti.csv\")\n",
    "BTC_TRANSACTIONS = pd.read_csv(\"btc-transactions.csv\")"
   ]
  },
  {
   "cell_type": "code",
   "execution_count": 142,
   "id": "1757926c-ceda-4f2d-b952-ee5fe2a74b7c",
   "metadata": {},
   "outputs": [
    {
     "data": {
      "text/html": [
       "<div>\n",
       "<style scoped>\n",
       "    .dataframe tbody tr th:only-of-type {\n",
       "        vertical-align: middle;\n",
       "    }\n",
       "\n",
       "    .dataframe tbody tr th {\n",
       "        vertical-align: top;\n",
       "    }\n",
       "\n",
       "    .dataframe thead th {\n",
       "        text-align: right;\n",
       "    }\n",
       "</style>\n",
       "<table border=\"1\" class=\"dataframe\">\n",
       "  <thead>\n",
       "    <tr style=\"text-align: right;\">\n",
       "      <th></th>\n",
       "      <th>DateTime</th>\n",
       "      <th>Estimated TWh per Year</th>\n",
       "      <th>Minimum TWh per Year</th>\n",
       "    </tr>\n",
       "  </thead>\n",
       "  <tbody>\n",
       "    <tr>\n",
       "      <th>0</th>\n",
       "      <td>2017-02-10 00:00:00</td>\n",
       "      <td>9.585659</td>\n",
       "      <td>3.331026</td>\n",
       "    </tr>\n",
       "    <tr>\n",
       "      <th>1</th>\n",
       "      <td>2017-02-11 00:00:00</td>\n",
       "      <td>9.547335</td>\n",
       "      <td>3.316227</td>\n",
       "    </tr>\n",
       "    <tr>\n",
       "      <th>2</th>\n",
       "      <td>2017-02-12 00:00:00</td>\n",
       "      <td>9.578774</td>\n",
       "      <td>3.198969</td>\n",
       "    </tr>\n",
       "    <tr>\n",
       "      <th>3</th>\n",
       "      <td>2017-02-13 00:00:00</td>\n",
       "      <td>9.476506</td>\n",
       "      <td>3.045178</td>\n",
       "    </tr>\n",
       "    <tr>\n",
       "      <th>4</th>\n",
       "      <td>2017-02-14 00:00:00</td>\n",
       "      <td>9.544807</td>\n",
       "      <td>3.150062</td>\n",
       "    </tr>\n",
       "    <tr>\n",
       "      <th>...</th>\n",
       "      <td>...</td>\n",
       "      <td>...</td>\n",
       "      <td>...</td>\n",
       "    </tr>\n",
       "    <tr>\n",
       "      <th>1801</th>\n",
       "      <td>2022-01-17 00:00:00</td>\n",
       "      <td>204.495517</td>\n",
       "      <td>55.540599</td>\n",
       "    </tr>\n",
       "    <tr>\n",
       "      <th>1802</th>\n",
       "      <td>2022-01-18 00:00:00</td>\n",
       "      <td>204.495517</td>\n",
       "      <td>56.820048</td>\n",
       "    </tr>\n",
       "    <tr>\n",
       "      <th>1803</th>\n",
       "      <td>2022-01-19 00:00:00</td>\n",
       "      <td>204.495517</td>\n",
       "      <td>58.127091</td>\n",
       "    </tr>\n",
       "    <tr>\n",
       "      <th>1804</th>\n",
       "      <td>2022-01-20 00:00:00</td>\n",
       "      <td>204.495517</td>\n",
       "      <td>58.694202</td>\n",
       "    </tr>\n",
       "    <tr>\n",
       "      <th>1805</th>\n",
       "      <td>2022-01-21 00:00:00</td>\n",
       "      <td>204.495517</td>\n",
       "      <td>59.333397</td>\n",
       "    </tr>\n",
       "  </tbody>\n",
       "</table>\n",
       "<p>1806 rows × 3 columns</p>\n",
       "</div>"
      ],
      "text/plain": [
       "                 DateTime  Estimated TWh per Year  Minimum TWh per Year\n",
       "0     2017-02-10 00:00:00                9.585659              3.331026\n",
       "1     2017-02-11 00:00:00                9.547335              3.316227\n",
       "2     2017-02-12 00:00:00                9.578774              3.198969\n",
       "3     2017-02-13 00:00:00                9.476506              3.045178\n",
       "4     2017-02-14 00:00:00                9.544807              3.150062\n",
       "...                   ...                     ...                   ...\n",
       "1801  2022-01-17 00:00:00              204.495517             55.540599\n",
       "1802  2022-01-18 00:00:00              204.495517             56.820048\n",
       "1803  2022-01-19 00:00:00              204.495517             58.127091\n",
       "1804  2022-01-20 00:00:00              204.495517             58.694202\n",
       "1805  2022-01-21 00:00:00              204.495517             59.333397\n",
       "\n",
       "[1806 rows x 3 columns]"
      ]
     },
     "execution_count": 142,
     "metadata": {},
     "output_type": "execute_result"
    }
   ],
   "source": [
    "BTC_ENERGY"
   ]
  },
  {
   "cell_type": "code",
   "execution_count": 147,
   "id": "d84991d9-46a1-4149-841f-00ce711239dc",
   "metadata": {},
   "outputs": [],
   "source": [
    "btc_transactions_processed = BTC_TRANSACTIONS.astype({ \"Timestamp\": np.datetime64 }).set_index(\"Timestamp\")[\"n-transactions\"]\n",
    "btc_energy_processed = BTC_ENERGY.astype({ \"DateTime\": np.datetime64 }).set_index(\"DateTime\")[\"Estimated TWh per Year\"]\n",
    "\n",
    "BITCOIN = {\n",
    "    \"energy\": btc_energy_processed,\n",
    "    \"tx_cnt\": btc_transactions_processed\n",
    "}"
   ]
  },
  {
   "cell_type": "code",
   "execution_count": 148,
   "id": "643820d1-1ea9-41f8-860b-5cc3f91c8bc0",
   "metadata": {},
   "outputs": [
    {
     "data": {
      "text/plain": [
       "2664.2724797255783"
      ]
     },
     "execution_count": 148,
     "metadata": {},
     "output_type": "execute_result"
    }
   ],
   "source": [
    "get_energy_kwh_per_trans(BITCOIN, 1641837499)"
   ]
  },
  {
   "cell_type": "code",
   "execution_count": null,
   "id": "130bbbe7-020a-4287-84b7-6bd2f65ac0c8",
   "metadata": {},
   "outputs": [],
   "source": []
  }
 ],
 "metadata": {
  "kernelspec": {
   "display_name": "Python 3 (ipykernel)",
   "language": "python",
   "name": "python3"
  },
  "language_info": {
   "codemirror_mode": {
    "name": "ipython",
    "version": 3
   },
   "file_extension": ".py",
   "mimetype": "text/x-python",
   "name": "python",
   "nbconvert_exporter": "python",
   "pygments_lexer": "ipython3",
   "version": "3.10.1"
  }
 },
 "nbformat": 4,
 "nbformat_minor": 5
}
